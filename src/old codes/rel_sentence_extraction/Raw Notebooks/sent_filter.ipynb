{
 "cells": [
  {
   "cell_type": "code",
   "execution_count": 6,
   "metadata": {},
   "outputs": [],
   "source": [
    "import numpy as np\n",
    "import pandas as pd\n",
    "import nltk"
   ]
  },
  {
   "cell_type": "code",
   "execution_count": 7,
   "metadata": {},
   "outputs": [],
   "source": [
    "data     = pd.read_csv('data.csv')\n",
    "top_feat = pd.read_csv('topdata_featbase.csv')\n",
    "top_lsa  = pd.read_csv('topdata_LSA.csv')\n",
    "top_txt  = pd.read_csv('topdata_textbase.csv')"
   ]
  },
  {
   "cell_type": "code",
   "execution_count": 8,
   "metadata": {},
   "outputs": [],
   "source": [
    "emotion = pd.read_csv('Lexicons/NRC_lexicon_new2.csv')\n",
    "neg_words = emotion.loc[emotion['emotion'] == 'negative']['word']\n",
    "neg_words = [word for word in neg_words]"
   ]
  },
  {
   "cell_type": "code",
   "execution_count": 9,
   "metadata": {},
   "outputs": [],
   "source": [
    "content       = data['site.content']\n",
    "content       = [eval(cont).decode('utf-8') for cont in content]\n",
    "top_feat_sent = top_feat.iloc[:,1:]\n",
    "top_lsa_sent  = top_lsa.iloc[:,1:] \n",
    "top_txt_sent  = top_txt.iloc[:,1:]"
   ]
  },
  {
   "cell_type": "code",
   "execution_count": 10,
   "metadata": {},
   "outputs": [],
   "source": [
    "sents = [1]*len(content)\n",
    "for d in range(len(content)):\n",
    "    sents[d] = nltk.sent_tokenize(content[d])"
   ]
  },
  {
   "cell_type": "code",
   "execution_count": 19,
   "metadata": {},
   "outputs": [
    {
     "name": "stdout",
     "output_type": "stream",
     "text": [
      "0.1.2.3.4.5.6.7.8.9.10.11.12.13.14.15.16.17.18.19.20.21.22.23.24.25.26.27.28.29.30.31.32.33.34.35.36.37.38.39.40.41.42.43.44.45.46.47.48.49.50.51.52.53.54.55.56.57.58.59.60.61.62.63.64.65.66.67.68.69.70.71.72.73.74.75.76.77.78.79.80.81.82.83.84.85.86.87.88.89.90.91.92.93.94.95.96.97.98.99.100.101.102.103.104.105.106.107.108.109.110.111.112.113.114.115.116.117.118.119.120.121.122.123.124.125.126.127.128.129.130.131.132.133.134.135.136.137.138.139.140.141.142.143.144.145.146.147.148.149.150.151.152.153.154.155.156.157.158.159.160.161.162.163.164.165.166.167.168.169.170.171.172.173.174.175.176.177.178.179.180.181.182.183.184.185.186.187.188.189.190.191.192.193.194.195.196.197.198.199.200.201.202.203.204.205.206.207.208.209.210.211.212.213.214.215.216.217.218.219.220.221.222.223.224.225.226.227.228.229.230.231.232.233.234.235.236.237.238.239.240.241.242.243.244.245.246.247.248.249.250.251.252.253.254.255.256.257.258.259.260.261.262.263.264.265.266.267.268.269.270.271.272.273.274.275.276.277.278.279.280.281.282.283.284.285.286.287.288.289.290.291.292.293.294.295.296.297.298.299.300.301.302.303.304.305.306.307.308.309.310.311.312.313.314.315.316.317.318.319.320.321.322.323.324.325.326.327.328.329.330.331.332.333.334.335.336.337.338.339.340.341.342.343.344.345.346.347.348.349.350.351.352.353.354.355.356.357.358.359.360.361.362.363.364.365.366.367.368.369.370.371.372.373.374.375.376.377.378.379.380.381.382.383.384.385.386.387.388.389.390.391.392.393.394.395.396.397.398.399.400.401.402.403.404.405.406.407.408.409.410.411.412.413.414.415.416.417.418.419.420.421.422.423.424.425.426.427.428.429.430.431.432.433.434.435.436.437.438.439.440.441.442.443.444.445.446.447.448.449.450.451.452.453.454.455.456.457.458.459.460.461.462.463.464.465.466.467.468.469.470.471.472.473.474.475.476.477.478.479.480.481.482.483.484.485.486.487.488.489.490.491.492.493.494.495.496.497.498.499.500.501.502.503.504.505.506.507.508.509.510.511.512.513.514.515.516.517.518.519.520.521.522.523.524.525.526.527.528.529.530.531.532.533.534.535.536.537.538.539.540.541.542.543.544.545.546.547.548.549.550.551.552.553.554.555.556.557.558.559.560.561.562.563.564.565.566.567.568.569.570.571.572.573.574.575.576.577.578.579.580.581.582.583.584.585.586.587.588.589.590.591.592.593.594.595.596.597.598.599.600.601.602.603.604.605.606.607.608.609.610.611.612.613.614.615.616.617.618.619.620.621.622.623.624.625.626.627.628.629.630.631.632.633.634.635.636.637.638.639.640.641.642.643.644.645.646.647.648.649.650.651.652.653.654.655.656.657.658.659.660.661.662.663.664.665.666.667.668.669.670.671.672.673.674.675.676.677.678.679.680.681.682.683.684.685.686.687.688.689.690.691.692.693.694.695.696.697.698.699.700.701.702.703.704.705.706.707.708.709.710.711.712.713.714.715.716.717.718.719.720.721.722.723.724.725.726.727.728.729.730.731.732.733.734.735.736.737.738.739.740.741.742."
     ]
    }
   ],
   "source": [
    "marker = [1]*len(sents)\n",
    "\n",
    "for d in range(len(sents)):\n",
    "    marker[d] = [0]*len(sents[d])\n",
    "    \n",
    "    for s in range(len(sents[d])):\n",
    "        words = nltk.word_tokenize(sents[d][s])\n",
    "        for word in words:\n",
    "            if word in neg_words:\n",
    "                marker[d][s] = 1\n",
    "                break\n",
    "        if marker[d][s] == 0:\n",
    "            continue\n",
    "        for top in top_feat_sent.iloc[d,:]:\n",
    "            if sents[d][s] == top:\n",
    "                marker[d][s] = 0\n",
    "                break\n",
    "        if marker[d][s] == 0:\n",
    "            continue\n",
    "        for top in top_lsa_sent.iloc[d,:]:\n",
    "            if sents[d][s] == top:\n",
    "                marker[d][s] = 0\n",
    "                break\n",
    "        if marker[d][s] == 0:\n",
    "            continue\n",
    "        for top in top_txt_sent.iloc[d,:]:\n",
    "            if sents[d][s] == top:\n",
    "                marker[d][s] = 0\n",
    "                break\n",
    "        \n",
    "    print(d, end='.')"
   ]
  },
  {
   "cell_type": "code",
   "execution_count": 20,
   "metadata": {},
   "outputs": [],
   "source": [
    "rsents = [1]*len(sents)\n",
    "\n",
    "for d in range(len(sents)):\n",
    "    rsents[d] = []\n",
    "    for s in range(len(sents[d])):\n",
    "        if(marker[d][s] == 1):\n",
    "            rsents[d].append(sents[d][s])"
   ]
  },
  {
   "cell_type": "code",
   "execution_count": 21,
   "metadata": {},
   "outputs": [
    {
     "data": {
      "text/plain": [
       "2303"
      ]
     },
     "execution_count": 21,
     "metadata": {},
     "output_type": "execute_result"
    }
   ],
   "source": [
    "np.sum(np.sum(marker[:]))"
   ]
  },
  {
   "cell_type": "code",
   "execution_count": 22,
   "metadata": {},
   "outputs": [
    {
     "data": {
      "text/plain": [
       "True"
      ]
     },
     "execution_count": 22,
     "metadata": {},
     "output_type": "execute_result"
    }
   ],
   "source": [
    "'abandon' in neg_words"
   ]
  },
  {
   "cell_type": "code",
   "execution_count": 23,
   "metadata": {},
   "outputs": [
    {
     "data": {
      "text/html": [
       "<div>\n",
       "<style scoped>\n",
       "    .dataframe tbody tr th:only-of-type {\n",
       "        vertical-align: middle;\n",
       "    }\n",
       "\n",
       "    .dataframe tbody tr th {\n",
       "        vertical-align: top;\n",
       "    }\n",
       "\n",
       "    .dataframe thead th {\n",
       "        text-align: right;\n",
       "    }\n",
       "</style>\n",
       "<table border=\"1\" class=\"dataframe\">\n",
       "  <thead>\n",
       "    <tr style=\"text-align: right;\">\n",
       "      <th></th>\n",
       "      <th>X.AUTHID</th>\n",
       "      <th>resents</th>\n",
       "    </tr>\n",
       "  </thead>\n",
       "  <tbody>\n",
       "    <tr>\n",
       "      <th>0</th>\n",
       "      <td>b'http://blog.searsholdings.com/leadership-vie...</td>\n",
       "      <td>[Over a million people cheered on our Shop You...</td>\n",
       "    </tr>\n",
       "    <tr>\n",
       "      <th>1</th>\n",
       "      <td>b'https://atyourservice.blogs.xerox.com/catego...</td>\n",
       "      <td>[]</td>\n",
       "    </tr>\n",
       "    <tr>\n",
       "      <th>2</th>\n",
       "      <td>b'http://blogs.zebra.com/whitepaper-label'</td>\n",
       "      <td>[]</td>\n",
       "    </tr>\n",
       "    <tr>\n",
       "      <th>3</th>\n",
       "      <td>b'https://connect.blogs.xerox.com/author/lauri...</td>\n",
       "      <td>[]</td>\n",
       "    </tr>\n",
       "    <tr>\n",
       "      <th>4</th>\n",
       "      <td>b'http://blog.searsholdings.com/2016/07/page/2/'</td>\n",
       "      <td>[]</td>\n",
       "    </tr>\n",
       "    <tr>\n",
       "      <th>5</th>\n",
       "      <td>b'http://blog.searsholdings.com/leena-munjal/f...</td>\n",
       "      <td>[]</td>\n",
       "    </tr>\n",
       "    <tr>\n",
       "      <th>6</th>\n",
       "      <td>b'https://atyourservice.blogs.xerox.com/catego...</td>\n",
       "      <td>[As Dorothy from the Wizard of Oz said, , I a ...</td>\n",
       "    </tr>\n",
       "    <tr>\n",
       "      <th>7</th>\n",
       "      <td>b'https://channelpartner.blogs.xerox.com/autho...</td>\n",
       "      <td>[By When the relationship between vendor and c...</td>\n",
       "    </tr>\n",
       "    <tr>\n",
       "      <th>8</th>\n",
       "      <td>b'https://digitalprinting.blogs.xerox.com/auth...</td>\n",
       "      <td>[]</td>\n",
       "    </tr>\n",
       "    <tr>\n",
       "      <th>9</th>\n",
       "      <td>b'https://atyourservice.blogs.xerox.com/page/2/'</td>\n",
       "      <td>[As Dorothy from the Wizard of Oz said, , I a ...</td>\n",
       "    </tr>\n",
       "  </tbody>\n",
       "</table>\n",
       "</div>"
      ],
      "text/plain": [
       "                                            X.AUTHID  \\\n",
       "0  b'http://blog.searsholdings.com/leadership-vie...   \n",
       "1  b'https://atyourservice.blogs.xerox.com/catego...   \n",
       "2         b'http://blogs.zebra.com/whitepaper-label'   \n",
       "3  b'https://connect.blogs.xerox.com/author/lauri...   \n",
       "4   b'http://blog.searsholdings.com/2016/07/page/2/'   \n",
       "5  b'http://blog.searsholdings.com/leena-munjal/f...   \n",
       "6  b'https://atyourservice.blogs.xerox.com/catego...   \n",
       "7  b'https://channelpartner.blogs.xerox.com/autho...   \n",
       "8  b'https://digitalprinting.blogs.xerox.com/auth...   \n",
       "9   b'https://atyourservice.blogs.xerox.com/page/2/'   \n",
       "\n",
       "                                             resents  \n",
       "0  [Over a million people cheered on our Shop You...  \n",
       "1                                                 []  \n",
       "2                                                 []  \n",
       "3                                                 []  \n",
       "4                                                 []  \n",
       "5                                                 []  \n",
       "6  [As Dorothy from the Wizard of Oz said, , I a ...  \n",
       "7  [By When the relationship between vendor and c...  \n",
       "8                                                 []  \n",
       "9  [As Dorothy from the Wizard of Oz said, , I a ...  "
      ]
     },
     "execution_count": 23,
     "metadata": {},
     "output_type": "execute_result"
    }
   ],
   "source": [
    "neg_notimp_sents = pd.DataFrame({'X.AUTHID': data['X.AUTHID'],\n",
    "                                 'resents' : rsents\n",
    "                                })\n",
    "neg_notimp_sents.head(10)"
   ]
  },
  {
   "cell_type": "code",
   "execution_count": 31,
   "metadata": {},
   "outputs": [],
   "source": [
    "neg_notimp_sents.to_csv('negno.csv',encoding='utf-8', index=False)"
   ]
  },
  {
   "cell_type": "code",
   "execution_count": 30,
   "metadata": {},
   "outputs": [
    {
     "data": {
      "text/plain": [
       "\"b'SHC Speaks by As Chief HR Officer and co-e sponsor of Sears Holdings , I am honored to have volunteered at the 45 Annual Chicago Pride Parade . This year, SHC partnered with , and to marry four couples on our float during the parade. Over a million people cheered on our Shop Your Way Pride Wedding Contest winners as the parade traveled through the city neighborhoods. I was joined by dozens of SHC associates and family members who marched in the parade or cheered from the crowd. It was a moving day for all involved as this was the first parade since the Illinois Marriage Equality Law was enacted. As a company that represents a true cross section of America, Sears Holdings gives more to our members no matter who they are or who they love. Thank you to everyone who participated and supported our couples on their special day. In addition, I also proud to report that out of nearly 200 entries, small businesses, non-profit organizations and corporate sponsored floats, our Gift Registry float won the Business Float. This is a credit to the hard work and effort of our PRIDE Associate Resource Group and all its members and partners. '\""
      ]
     },
     "execution_count": 30,
     "metadata": {},
     "output_type": "execute_result"
    }
   ],
   "source": [
    "data['site.content'][0]"
   ]
  },
  {
   "cell_type": "code",
   "execution_count": null,
   "metadata": {},
   "outputs": [],
   "source": []
  }
 ],
 "metadata": {
  "kernelspec": {
   "display_name": "Python 3",
   "language": "python",
   "name": "python3"
  },
  "language_info": {
   "codemirror_mode": {
    "name": "ipython",
    "version": 3
   },
   "file_extension": ".py",
   "mimetype": "text/x-python",
   "name": "python",
   "nbconvert_exporter": "python",
   "pygments_lexer": "ipython3",
   "version": "3.7.3"
  }
 },
 "nbformat": 4,
 "nbformat_minor": 2
}
