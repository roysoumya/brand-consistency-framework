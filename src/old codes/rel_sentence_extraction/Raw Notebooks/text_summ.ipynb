{
 "cells": [
  {
   "cell_type": "code",
   "execution_count": 1,
   "metadata": {
    "colab": {},
    "colab_type": "code",
    "id": "3vwLXgmMTtxU"
   },
   "outputs": [],
   "source": [
    "# !python -m pip install --upgrade --user ortools\n",
    "\n",
    "# import nltk\n",
    "\n",
    "# nltk.download('punkt')\n",
    "# nltk.download('stopwords')"
   ]
  },
  {
   "cell_type": "code",
   "execution_count": 2,
   "metadata": {
    "colab": {},
    "colab_type": "code",
    "id": "aQ28FQ6QDdLr"
   },
   "outputs": [],
   "source": [
    "# from google.colab import files\n",
    "# files.upload()"
   ]
  },
  {
   "cell_type": "code",
   "execution_count": 3,
   "metadata": {
    "colab": {},
    "colab_type": "code",
    "id": "kvSe_60bRyJV"
   },
   "outputs": [],
   "source": [
    "import numpy as np\n",
    "import pandas as pd\n",
    "from nltk import sent_tokenize, word_tokenize\n",
    "from nltk.corpus import stopwords\n",
    "import nltk\n",
    "import string\n",
    "from sklearn.feature_extraction.text import CountVectorizer\n",
    "from nltk.tokenize.treebank import TreebankWordDetokenizer\n",
    "from numpy import linalg as LA\n",
    "import math\n",
    "\n",
    "from ortools.linear_solver import pywraplp"
   ]
  },
  {
   "cell_type": "markdown",
   "metadata": {
    "colab_type": "text",
    "id": "CRKtCC9nda-s"
   },
   "source": []
  },
  {
   "cell_type": "code",
   "execution_count": 4,
   "metadata": {
    "colab": {
     "base_uri": "https://localhost:8080/",
     "height": 244
    },
    "colab_type": "code",
    "id": "-7LrznA2Ucwt",
    "outputId": "39e85c92-d8e5-4f8c-eeaa-fa9959693e13"
   },
   "outputs": [
    {
     "name": "stdout",
     "output_type": "stream",
     "text": [
      "(743, 43)\n"
     ]
    },
    {
     "data": {
      "text/html": [
       "<div>\n",
       "<style scoped>\n",
       "    .dataframe tbody tr th:only-of-type {\n",
       "        vertical-align: middle;\n",
       "    }\n",
       "\n",
       "    .dataframe tbody tr th {\n",
       "        vertical-align: top;\n",
       "    }\n",
       "\n",
       "    .dataframe thead th {\n",
       "        text-align: right;\n",
       "    }\n",
       "</style>\n",
       "<table border=\"1\" class=\"dataframe\">\n",
       "  <thead>\n",
       "    <tr style=\"text-align: right;\">\n",
       "      <th></th>\n",
       "      <th>X.AUTHID</th>\n",
       "      <th>anger_doc_sum</th>\n",
       "      <th>anticipation_doc_sum</th>\n",
       "      <th>arousal_doc_sum</th>\n",
       "      <th>disgust_doc_sum</th>\n",
       "      <th>dominance_doc_sum</th>\n",
       "      <th>fear_doc_sum</th>\n",
       "      <th>joy_doc_sum</th>\n",
       "      <th>neg_doc_sum</th>\n",
       "      <th>num_text_words</th>\n",
       "      <th>...</th>\n",
       "      <th>cSIN_label_fin</th>\n",
       "      <th>cEXC_label_fin</th>\n",
       "      <th>cCOM_label_fin</th>\n",
       "      <th>cRUG_label_fin</th>\n",
       "      <th>cSOP_label_fin</th>\n",
       "      <th>cSIN_fin_rank</th>\n",
       "      <th>cEXC_fin_rank</th>\n",
       "      <th>cCOM_fin_rank</th>\n",
       "      <th>cRUG_fin_rank</th>\n",
       "      <th>cSOP_fin_rank</th>\n",
       "    </tr>\n",
       "  </thead>\n",
       "  <tbody>\n",
       "    <tr>\n",
       "      <th>0</th>\n",
       "      <td>b'http://blog.searsholdings.com/leadership-vie...</td>\n",
       "      <td>1</td>\n",
       "      <td>9</td>\n",
       "      <td>31.317</td>\n",
       "      <td>0</td>\n",
       "      <td>38.293</td>\n",
       "      <td>7</td>\n",
       "      <td>16</td>\n",
       "      <td>7</td>\n",
       "      <td>124</td>\n",
       "      <td>...</td>\n",
       "      <td>n</td>\n",
       "      <td>y</td>\n",
       "      <td>y</td>\n",
       "      <td>n</td>\n",
       "      <td>y</td>\n",
       "      <td>5.0</td>\n",
       "      <td>1.0</td>\n",
       "      <td>2.0</td>\n",
       "      <td>3.0</td>\n",
       "      <td>4.0</td>\n",
       "    </tr>\n",
       "    <tr>\n",
       "      <th>1</th>\n",
       "      <td>b'https://atyourservice.blogs.xerox.com/catego...</td>\n",
       "      <td>0</td>\n",
       "      <td>4</td>\n",
       "      <td>23.260</td>\n",
       "      <td>0</td>\n",
       "      <td>32.665</td>\n",
       "      <td>0</td>\n",
       "      <td>1</td>\n",
       "      <td>2</td>\n",
       "      <td>126</td>\n",
       "      <td>...</td>\n",
       "      <td>y</td>\n",
       "      <td>n</td>\n",
       "      <td>y</td>\n",
       "      <td>n</td>\n",
       "      <td>y</td>\n",
       "      <td>NaN</td>\n",
       "      <td>NaN</td>\n",
       "      <td>NaN</td>\n",
       "      <td>NaN</td>\n",
       "      <td>NaN</td>\n",
       "    </tr>\n",
       "  </tbody>\n",
       "</table>\n",
       "<p>2 rows × 43 columns</p>\n",
       "</div>"
      ],
      "text/plain": [
       "                                            X.AUTHID  anger_doc_sum  \\\n",
       "0  b'http://blog.searsholdings.com/leadership-vie...              1   \n",
       "1  b'https://atyourservice.blogs.xerox.com/catego...              0   \n",
       "\n",
       "   anticipation_doc_sum  arousal_doc_sum  disgust_doc_sum  dominance_doc_sum  \\\n",
       "0                     9           31.317                0             38.293   \n",
       "1                     4           23.260                0             32.665   \n",
       "\n",
       "   fear_doc_sum  joy_doc_sum  neg_doc_sum  num_text_words  ...  \\\n",
       "0             7           16            7             124  ...   \n",
       "1             0            1            2             126  ...   \n",
       "\n",
       "   cSIN_label_fin  cEXC_label_fin cCOM_label_fin cRUG_label_fin  \\\n",
       "0               n               y              y              n   \n",
       "1               y               n              y              n   \n",
       "\n",
       "   cSOP_label_fin  cSIN_fin_rank  cEXC_fin_rank  cCOM_fin_rank  cRUG_fin_rank  \\\n",
       "0               y            5.0            1.0            2.0            3.0   \n",
       "1               y            NaN            NaN            NaN            NaN   \n",
       "\n",
       "  cSOP_fin_rank  \n",
       "0           4.0  \n",
       "1           NaN  \n",
       "\n",
       "[2 rows x 43 columns]"
      ]
     },
     "execution_count": 4,
     "metadata": {},
     "output_type": "execute_result"
    }
   ],
   "source": [
    "data = pd.read_csv('data.csv')\n",
    "print(data.shape)\n",
    "data.head(2)"
   ]
  },
  {
   "cell_type": "code",
   "execution_count": 5,
   "metadata": {
    "colab": {},
    "colab_type": "code",
    "id": "KiuHeG__WZDt"
   },
   "outputs": [],
   "source": [
    "site_content = data['site.content']\n",
    "docs = {}\n",
    "for i in range(site_content.size):\n",
    "    docs[i] = eval(site_content[i]).decode('utf-8')"
   ]
  },
  {
   "cell_type": "code",
   "execution_count": 6,
   "metadata": {
    "colab": {},
    "colab_type": "code",
    "id": "wFDRpHJ-Xkdz"
   },
   "outputs": [],
   "source": [
    "original_corpus = [1]*len(docs)\n",
    "corpus = [1]*len(docs)\n",
    "copy_corpus = [1]*len(docs)\n",
    "\n",
    "for i in range(len(docs)):\n",
    "    original_corpus[i] = sent_tokenize(docs[i])\n",
    "    corpus[i] = sent_tokenize(docs[i])\n",
    "    copy_corpus[i] = sent_tokenize(docs[i])"
   ]
  },
  {
   "cell_type": "code",
   "execution_count": 7,
   "metadata": {
    "colab": {
     "base_uri": "https://localhost:8080/",
     "height": 87
    },
    "colab_type": "code",
    "id": "HUCpMqfAYZ4b",
    "outputId": "3361f316-05eb-47ee-f6f0-4e3446d8cab4"
   },
   "outputs": [
    {
     "name": "stdout",
     "output_type": "stream",
     "text": [
      "b\"Join me! Ill be hosting a unique set of customersat ;, SYN109, (Wednesday May 24, 4:45pm) where well have a discussion and audience-driven Q&A with 4 Citrix Cloud customers:;Well cut the marketing fluff. No speeds and feeds. Just candid, matter-of-fact discussions about:;Ken is Sr. Director of Product Marketing in Citrix's Cloud Services group, and spends most of his time helping lead the charge to converge concepts of cloud computing, virtual workspaces, and hosted service providers. You can also find Ken on Twitter as @fountnhead; Weve seen increasing traction for NetScaler in customer deployments as they migrate to the cloud. One of the key differentiators ; Citrix VP of WW Sales and Strategy, Ash Vijayakanthan shares his thoughts on the benefits Citrix Cloud brings for Citrix Service Providers ; NetScaler Management and Analytics from Citrix allows administrators to easily view, automate, and manage all their application infrastructure, as well ;Dont worry, you can unsubscribe at anytime.; ;\"\n",
      "Join me! Ill be hosting a unique set of customersat ;, SYN109, (Wednesday May 24, 4:45pm) where well have a discussion and audience-driven Q&A with 4 Citrix Cloud customers:;Well cut the marketing fluff. No speeds and feeds. Just candid, matter-of-fact discussions about:;Ken is Sr. Director of Product Marketing in Citrix's Cloud Services group, and spends most of his time helping lead the charge to converge concepts of cloud computing, virtual workspaces, and hosted service providers. You can also find Ken on Twitter as @fountnhead; Weve seen increasing traction for NetScaler in customer deployments as they migrate to the cloud. One of the key differentiators ; Citrix VP of WW Sales and Strategy, Ash Vijayakanthan shares his thoughts on the benefits Citrix Cloud brings for Citrix Service Providers ; NetScaler Management and Analytics from Citrix allows administrators to easily view, automate, and manage all their application infrastructure, as well ;Dont worry, you can unsubscribe at anytime.; ;\n",
      "['Join me!', 'Ill be hosting a unique set of customersat ;, SYN109, (Wednesday May 24, 4:45pm) where well have a discussion and audience-driven Q&A with 4 Citrix Cloud customers:;Well cut the marketing fluff.', 'No speeds and feeds.', \"Just candid, matter-of-fact discussions about:;Ken is Sr. Director of Product Marketing in Citrix's Cloud Services group, and spends most of his time helping lead the charge to converge concepts of cloud computing, virtual workspaces, and hosted service providers.\", 'You can also find Ken on Twitter as @fountnhead; Weve seen increasing traction for NetScaler in customer deployments as they migrate to the cloud.', 'One of the key differentiators ; Citrix VP of WW Sales and Strategy, Ash Vijayakanthan shares his thoughts on the benefits Citrix Cloud brings for Citrix Service Providers ; NetScaler Management and Analytics from Citrix allows administrators to easily view, automate, and manage all their application infrastructure, as well ;Dont worry, you can unsubscribe at anytime.', '; ;']\n"
     ]
    }
   ],
   "source": [
    "print(site_content[20])\n",
    "print(docs[20])\n",
    "print(corpus[20])"
   ]
  },
  {
   "cell_type": "code",
   "execution_count": 8,
   "metadata": {
    "colab": {},
    "colab_type": "code",
    "id": "ZnpUC55cejuO"
   },
   "outputs": [],
   "source": [
    "stemmer = nltk.stem.porter.PorterStemmer()\n",
    "lemmatizer = nltk.stem.WordNetLemmatizer()\n",
    "remove_punctuation_map = dict((ord(char), ' ') for char in string.punctuation)\n",
    "integer_chars = [str(digit) for digit in list(range(10))]\n",
    "remove_integer_map = dict((ord(char), None) for char in integer_chars)\n",
    "\n",
    "def stem_tokens(tokens):\n",
    "    return [stemmer.stem(item) for item in tokens]\n",
    "\n",
    "def lemm_tokens(tokens):\n",
    "    return [lemmatizer.lemmatize(item) for item in tokens]\n",
    "\n",
    "def filtersent(text):\n",
    "    # remove puctuationas and lower the case\n",
    "    simpletext = text.lower().translate(remove_punctuation_map).translate(remove_integer_map)\n",
    "    # tokenize\n",
    "    words = nltk.word_tokenize(simpletext)\n",
    "    # remove stop words\n",
    "    words = [w for w in words if w not in stopwords.words('english')]\n",
    "    # stem them\n",
    "    words = lemm_tokens(words)\n",
    "    words = stem_tokens(words)\n",
    "    words = [w for w in words if w not in string.ascii_lowercase]\n",
    "    return TreebankWordDetokenizer().detokenize(words)"
   ]
  },
  {
   "cell_type": "code",
   "execution_count": 9,
   "metadata": {
    "colab": {},
    "colab_type": "code",
    "id": "Xj-A_AB0euLC"
   },
   "outputs": [],
   "source": [
    "for i in range(len(corpus)):\n",
    "    for j in range(len(corpus[i])):\n",
    "        corpus[i][j] = filtersent(original_corpus[i][j])\n",
    "        copy_corpus[i][j] = original_corpus[i][j]"
   ]
  },
  {
   "cell_type": "code",
   "execution_count": 10,
   "metadata": {
    "colab": {},
    "colab_type": "code",
    "id": "FbKjc5UDwC05"
   },
   "outputs": [],
   "source": [
    "for i in range(len(corpus)):\n",
    "    idx = []\n",
    "    for j in range(len(corpus[i])):\n",
    "        if(corpus[i][j] == ''):\n",
    "            idx.insert(0,j)\n",
    "    for index in idx:\n",
    "        del corpus[i][index]\n",
    "        del copy_corpus[i][index]"
   ]
  },
  {
   "cell_type": "code",
   "execution_count": 11,
   "metadata": {
    "colab": {},
    "colab_type": "code",
    "id": "RUnVXDujwmc9"
   },
   "outputs": [],
   "source": [
    "\n",
    "# print(original_corpus[498])\n",
    "# print(corpus[498])\n",
    "# print(copy_corpus[498])\n",
    "# print(simplefiltersent(\"Join me! Ill be hosting a unique set of customersat\"))"
   ]
  },
  {
   "cell_type": "code",
   "execution_count": 12,
   "metadata": {
    "colab": {
     "base_uri": "https://localhost:8080/",
     "height": 87
    },
    "colab_type": "code",
    "id": "GlTDezv2fCGp",
    "outputId": "ff125617-b980-4798-a45a-a42095506d1f"
   },
   "outputs": [
    {
     "name": "stdout",
     "output_type": "stream",
     "text": [
      "['join', 'ill host uniqu set customersat syn wednesday may pm well discuss audienc driven citrix cloud custom well cut market fluff', 'speed feed', 'candid matter fact discuss ken sr director product market citrix cloud servic group spend time help lead charg converg concept cloud comput virtual workspac host servic provid', 'also find ken twitter fountnhead weve seen increas traction netscal custom deploy migrat cloud', 'one key differenti citrix vp ww sale strategi ash vijayakanthan share thought benefit citrix cloud bring citrix servic provid netscal manag analyt citrix allow administr easili view autom manag applic infrastructur well dont worri unsubscrib anytim']\n",
      "['Join me!', 'Ill be hosting a unique set of customersat ;, SYN109, (Wednesday May 24, 4:45pm) where well have a discussion and audience-driven Q&A with 4 Citrix Cloud customers:;Well cut the marketing fluff.', 'No speeds and feeds.', \"Just candid, matter-of-fact discussions about:;Ken is Sr. Director of Product Marketing in Citrix's Cloud Services group, and spends most of his time helping lead the charge to converge concepts of cloud computing, virtual workspaces, and hosted service providers.\", 'You can also find Ken on Twitter as @fountnhead; Weve seen increasing traction for NetScaler in customer deployments as they migrate to the cloud.', 'One of the key differentiators ; Citrix VP of WW Sales and Strategy, Ash Vijayakanthan shares his thoughts on the benefits Citrix Cloud brings for Citrix Service Providers ; NetScaler Management and Analytics from Citrix allows administrators to easily view, automate, and manage all their application infrastructure, as well ;Dont worry, you can unsubscribe at anytime.']\n",
      "['Join me!', 'Ill be hosting a unique set of customersat ;, SYN109, (Wednesday May 24, 4:45pm) where well have a discussion and audience-driven Q&A with 4 Citrix Cloud customers:;Well cut the marketing fluff.', 'No speeds and feeds.', \"Just candid, matter-of-fact discussions about:;Ken is Sr. Director of Product Marketing in Citrix's Cloud Services group, and spends most of his time helping lead the charge to converge concepts of cloud computing, virtual workspaces, and hosted service providers.\", 'You can also find Ken on Twitter as @fountnhead; Weve seen increasing traction for NetScaler in customer deployments as they migrate to the cloud.', 'One of the key differentiators ; Citrix VP of WW Sales and Strategy, Ash Vijayakanthan shares his thoughts on the benefits Citrix Cloud brings for Citrix Service Providers ; NetScaler Management and Analytics from Citrix allows administrators to easily view, automate, and manage all their application infrastructure, as well ;Dont worry, you can unsubscribe at anytime.', '; ;']\n"
     ]
    }
   ],
   "source": [
    "print(corpus[20])\n",
    "print(copy_corpus[20])\n",
    "print(original_corpus[20])"
   ]
  },
  {
   "cell_type": "code",
   "execution_count": 13,
   "metadata": {
    "colab": {},
    "colab_type": "code",
    "id": "o-3HHpvCe3Fr"
   },
   "outputs": [],
   "source": [
    "tf_word = [1]*len(corpus)\n",
    "idf_word = [1]*len(corpus)\n",
    "tfidf_word = [1]*len(corpus)\n",
    "\n",
    "# calculating only tf in each doc\n",
    "for i in range(len(corpus)):\n",
    "    sentence = TreebankWordDetokenizer().detokenize([string for string in corpus[i]])\n",
    "    \n",
    "    words = nltk.tokenize.word_tokenize(sentence)\n",
    "    fdist1 = nltk.FreqDist(words)\n",
    "\n",
    "    tf_word[i] = dict((word, freq) for word, freq in fdist1.items() if not word.isdigit())"
   ]
  },
  {
   "cell_type": "code",
   "execution_count": 14,
   "metadata": {
    "colab": {},
    "colab_type": "code",
    "id": "y3ci__rWfP6_"
   },
   "outputs": [],
   "source": [
    "for i in range(len(corpus)):\n",
    "    idf_word[i] = tf_word[i]\n",
    "    tfidf_word[i] = tf_word[i]\n",
    "\n",
    "# calculating idf\n",
    "for i in range(len(corpus)):\n",
    "    for word in idf_word[i]:\n",
    "        df=0 #documents containg the word\n",
    "        for p in range(len(corpus)):\n",
    "            if word in tf_word[p]:\n",
    "                df += 1;\n",
    "        idf_word[i][word] = np.log10(len(corpus)/(df + 1))\n",
    "\n",
    "# calculating tfidf\n",
    "for i in range(len(corpus)):\n",
    "    for word in tfidf_word[i]:\n",
    "        tfidf_word[i][word] = tf_word[i][word] * idf_word[i][word]"
   ]
  },
  {
   "cell_type": "code",
   "execution_count": 15,
   "metadata": {
    "colab": {},
    "colab_type": "code",
    "id": "E9PkmAgMfT5K"
   },
   "outputs": [],
   "source": [
    "tfidf_sent = [1]*len(corpus)\n",
    "\n",
    "for i in range(len(corpus)):\n",
    "    tfidf_sent[i] = [1]*len(corpus[i])\n",
    "\n",
    "for i in range(len(corpus)):\n",
    "    for j in range(len(corpus[i])):\n",
    "        tfidf = 0\n",
    "        for word in word_tokenize(corpus[i][j]):\n",
    "            try:\n",
    "                tfidf += tfidf_word[i][word]\n",
    "            except:\n",
    "                pass\n",
    "        if(len(corpus[i][j])==0):\n",
    "            tfidf = 0\n",
    "        else:\n",
    "            tfidf /= len(corpus[i][j])\n",
    "        tfidf_sent[i][j] = tfidf"
   ]
  },
  {
   "cell_type": "code",
   "execution_count": 16,
   "metadata": {
    "colab": {},
    "colab_type": "code",
    "id": "z-0EWvCWfYVh"
   },
   "outputs": [],
   "source": [
    "# count matrix\n",
    "count_word = [1]*len(corpus)\n",
    "count_matrix = [1]*len(corpus)\n",
    "count_persent = [1]*len(corpus) # no of words per sentence\n",
    "\n",
    "vectorizer = CountVectorizer()\n",
    "for i in range(len(corpus)):\n",
    "    count_word[i] = vectorizer.fit_transform(corpus[i])\n",
    "    count_matrix[i] = count_word[i].toarray()\n",
    "    count_persent[i] = np.sum(count_matrix[i], axis=1)"
   ]
  },
  {
   "cell_type": "code",
   "execution_count": 17,
   "metadata": {
    "colab": {
     "base_uri": "https://localhost:8080/",
     "height": 34
    },
    "colab_type": "code",
    "id": "F1SMnRoil7Jf",
    "outputId": "29192b15-4c2c-4424-935d-f02ab4df5e12"
   },
   "outputs": [
    {
     "data": {
      "text/plain": [
       "array([ 1, 20,  2, 27, 14, 36], dtype=int64)"
      ]
     },
     "execution_count": 17,
     "metadata": {},
     "output_type": "execute_result"
    }
   ],
   "source": [
    "count_persent[20]"
   ]
  },
  {
   "cell_type": "code",
   "execution_count": 18,
   "metadata": {
    "colab": {},
    "colab_type": "code",
    "id": "d1EnGt8uZJOR"
   },
   "outputs": [],
   "source": [
    "lam = 0.6\n",
    "k = 3 # maximum sentences\n",
    "\n",
    "\n",
    "mu = 0.85\n",
    "top_corpus = [1]*len(corpus)\n",
    "corpus_sents = [1]*len(corpus)\n",
    "\n",
    "for s in range(len(corpus)):\n",
    "# if(True):\n",
    "#     s = 498;\n",
    "    no_sent = len(corpus[s])\n",
    "    # similarity matrix\n",
    "    sim = np.zeros((no_sent, no_sent))\n",
    "    worthless_sent = []\n",
    "    for x in range(no_sent):\n",
    "        for y in range(no_sent):\n",
    "            adotb = np.dot(count_matrix[s][x], count_matrix[s][y])\n",
    "            a = LA.norm(count_matrix[s][x])\n",
    "            b = LA.norm(count_matrix[s][y])\n",
    "            if(x==y):\n",
    "                sim[x,y] = (1-mu)/no_sent\n",
    "            else:\n",
    "                sim[x,y] = mu*(adotb/(a*b)) + (1-mu)/no_sent\n",
    "\n",
    "    denom = np.sum(sim,axis=1)\n",
    "    for x in range(no_sent):\n",
    "        sim[x,:] = sim[x,:] * 1/denom[x]\n",
    "        \n",
    "    v = np.array(tfidf_sent[s])\n",
    "    \n",
    "    while(True):\n",
    "        v_dash = v.dot(sim)\n",
    "        if(LA.norm(v_dash - v) < 0.000000001):\n",
    "            break\n",
    "        v = v_dash\n",
    "        \n",
    "    alpha = {}\n",
    "    beta = {}\n",
    "    redundacy = sim;\n",
    "\n",
    "    solver = pywraplp.Solver('SolveAssignmentProblemMIP', pywraplp.Solver.CBC_MIXED_INTEGER_PROGRAMMING)\n",
    "\n",
    "    for i in range(no_sent):\n",
    "        alpha[i] = solver.BoolVar('alpha[%i]' % i)\n",
    "\n",
    "    for i in range(no_sent):\n",
    "        for j in range(i+1,no_sent):\n",
    "            beta[i,j] = solver.BoolVar('beta[%i,%i]' %(i,j))\n",
    "\n",
    "\n",
    "    solver.Maximize(solver.Sum(alpha[i]*lam*v[i] for i in range(no_sent)) - solver.Sum([beta[i,j]*(1-lam)*redundacy[i,j] for j in range(i+1,no_sent) for i in range(no_sent)]))\n",
    "\n",
    "    # constraints\n",
    "    solver.Add( solver.Sum([alpha[i] for i in range(no_sent)]) <= k )\n",
    "\n",
    "    for i in range(no_sent):\n",
    "        for j in range(i+1,no_sent):\n",
    "            solver.Add( beta[i,j] <= alpha[i])\n",
    "            solver.Add( beta[i,j] <= alpha[j])\n",
    "            solver.Add( alpha[i] + alpha[j] <= 1 + beta[i,j])\n",
    "\n",
    "\n",
    "\n",
    "    sol = solver.Solve()\n",
    "\n",
    "    # print([alpha[i].solution_value() for i in range(no_sent)])\n",
    "    # print([[beta[i,j].solution_value() for j in range(i+1, no_sent) ] for i in range(no_sent) ])\n",
    "    # print(solver.Objective().Value())\n",
    "\n",
    "    alpha_sol = [alpha[i].solution_value() for i in range(no_sent)]\n",
    "    top_sents = []\n",
    "    for i in range(no_sent):\n",
    "        if alpha_sol[i]==1:\n",
    "            top_sents.append(copy_corpus[s][i])\n",
    "    top_corpus[s] = top_sents"
   ]
  },
  {
   "cell_type": "code",
   "execution_count": 19,
   "metadata": {
    "colab": {
     "base_uri": "https://localhost:8080/",
     "height": 195
    },
    "colab_type": "code",
    "id": "v5dDwqBI7ctf",
    "outputId": "32660c61-5179-4456-e161-6037ccc16189"
   },
   "outputs": [
    {
     "data": {
      "text/html": [
       "<div>\n",
       "<style scoped>\n",
       "    .dataframe tbody tr th:only-of-type {\n",
       "        vertical-align: middle;\n",
       "    }\n",
       "\n",
       "    .dataframe tbody tr th {\n",
       "        vertical-align: top;\n",
       "    }\n",
       "\n",
       "    .dataframe thead th {\n",
       "        text-align: right;\n",
       "    }\n",
       "</style>\n",
       "<table border=\"1\" class=\"dataframe\">\n",
       "  <thead>\n",
       "    <tr style=\"text-align: right;\">\n",
       "      <th></th>\n",
       "      <th>X.AUTHID</th>\n",
       "      <th>ILP1</th>\n",
       "      <th>ILP2</th>\n",
       "      <th>ILP3</th>\n",
       "    </tr>\n",
       "  </thead>\n",
       "  <tbody>\n",
       "    <tr>\n",
       "      <th>0</th>\n",
       "      <td>b'http://blog.searsholdings.com/leadership-vie...</td>\n",
       "      <td>SHC Speaks by As Chief HR Officer and co-e spo...</td>\n",
       "      <td>This year, SHC partnered with , and to marry f...</td>\n",
       "      <td>I was joined by dozens of SHC associates and f...</td>\n",
       "    </tr>\n",
       "    <tr>\n",
       "      <th>1</th>\n",
       "      <td>b'https://atyourservice.blogs.xerox.com/catego...</td>\n",
       "      <td>When you look at your Xerox device and see the...</td>\n",
       "      <td>Recently new support videos were posted to the...</td>\n",
       "      <td>Xerox and Xerox and Design are trademarks of X...</td>\n",
       "    </tr>\n",
       "    <tr>\n",
       "      <th>2</th>\n",
       "      <td>b'http://blogs.zebra.com/whitepaper-label'</td>\n",
       "      <td>; March 17, 2015 at 8:03 AM ;Product identifi...</td>\n",
       "      <td>It is critical that the labels you utilize are...</td>\n",
       "      <td>;In this paper, Zebra provides guidance on how...</td>\n",
       "    </tr>\n",
       "    <tr>\n",
       "      <th>3</th>\n",
       "      <td>b'https://connect.blogs.xerox.com/author/lauri...</td>\n",
       "      <td>Writer and PR Consultant Email LinkedIn Twitte...</td>\n",
       "      <td>By By Laurie Riedman, PR Consultant Throughout...</td>\n",
       "      <td>Xerox and Xerox and Design are trademarks of X...</td>\n",
       "    </tr>\n",
       "    <tr>\n",
       "      <th>4</th>\n",
       "      <td>b'http://blog.searsholdings.com/2016/07/page/2/'</td>\n",
       "      <td>For our Danbury Sears store, this meant that w...</td>\n",
       "      <td>On Saturday, July 2, Sears celebrated the gran...</td>\n",
       "      <td>With the pride that I have for Sears Holdings,...</td>\n",
       "    </tr>\n",
       "  </tbody>\n",
       "</table>\n",
       "</div>"
      ],
      "text/plain": [
       "                                            X.AUTHID  \\\n",
       "0  b'http://blog.searsholdings.com/leadership-vie...   \n",
       "1  b'https://atyourservice.blogs.xerox.com/catego...   \n",
       "2         b'http://blogs.zebra.com/whitepaper-label'   \n",
       "3  b'https://connect.blogs.xerox.com/author/lauri...   \n",
       "4   b'http://blog.searsholdings.com/2016/07/page/2/'   \n",
       "\n",
       "                                                ILP1  \\\n",
       "0  SHC Speaks by As Chief HR Officer and co-e spo...   \n",
       "1  When you look at your Xerox device and see the...   \n",
       "2   ; March 17, 2015 at 8:03 AM ;Product identifi...   \n",
       "3  Writer and PR Consultant Email LinkedIn Twitte...   \n",
       "4  For our Danbury Sears store, this meant that w...   \n",
       "\n",
       "                                                ILP2  \\\n",
       "0  This year, SHC partnered with , and to marry f...   \n",
       "1  Recently new support videos were posted to the...   \n",
       "2  It is critical that the labels you utilize are...   \n",
       "3  By By Laurie Riedman, PR Consultant Throughout...   \n",
       "4  On Saturday, July 2, Sears celebrated the gran...   \n",
       "\n",
       "                                                ILP3  \n",
       "0  I was joined by dozens of SHC associates and f...  \n",
       "1  Xerox and Xerox and Design are trademarks of X...  \n",
       "2  ;In this paper, Zebra provides guidance on how...  \n",
       "3  Xerox and Xerox and Design are trademarks of X...  \n",
       "4  With the pride that I have for Sears Holdings,...  "
      ]
     },
     "execution_count": 19,
     "metadata": {},
     "output_type": "execute_result"
    }
   ],
   "source": [
    "top_data = pd.DataFrame({\"X.AUTHID\": data[\"X.AUTHID\"],\n",
    "                        \"ILP1\": [ s[0] for s in top_corpus],\n",
    "                         \"ILP2\": [ s[1] for s in top_corpus],\n",
    "                         \"ILP3\": [ s[2] for s in top_corpus]})\n",
    "top_data.head(5)"
   ]
  },
  {
   "cell_type": "code",
   "execution_count": 20,
   "metadata": {
    "colab": {},
    "colab_type": "code",
    "id": "cDQGrDJo32WP"
   },
   "outputs": [],
   "source": [
    "lam = 0.6\n",
    "k = 3 # maximum sentences\n",
    "\n",
    "\n",
    "mu = 0.85\n",
    "top_corpus = [1]*len(corpus)\n",
    "corpus_sents = [1]*len(corpus)\n",
    "\n",
    "for s in range(len(corpus)):\n",
    "# if(True):\n",
    "#     s = 498\n",
    "    no_sent = len(corpus[s])\n",
    "    # similarity matrix\n",
    "    sim = np.zeros((no_sent, no_sent))\n",
    "    worthless_sent = []\n",
    "    for x in range(no_sent):\n",
    "        for y in range(no_sent):\n",
    "            adotb = np.dot(count_matrix[s][x], count_matrix[s][y])\n",
    "            a = LA.norm(count_matrix[s][x])\n",
    "            b = LA.norm(count_matrix[s][y])\n",
    "            if(x==y):\n",
    "                sim[x,y] = (1-mu)/no_sent\n",
    "            else:\n",
    "                sim[x,y] = mu*(adotb/(a*b)) + (1-mu)/no_sent\n",
    "\n",
    "    denom = np.sum(sim,axis=1)\n",
    "    for x in range(no_sent):\n",
    "        sim[x,:] = sim[x,:] * 1/denom[x]\n",
    "        \n",
    "    v = np.array(tfidf_sent[s])\n",
    "    \n",
    "    while(True):\n",
    "        v_dash = v.dot(sim)\n",
    "        if(LA.norm(v_dash - v) < 0.000000001):\n",
    "            break\n",
    "        v = v_dash\n",
    "        \n",
    "    top_sents = []\n",
    "    for i in range(k):\n",
    "        idx = np.argmax(v)\n",
    "        top_sents.append(copy_corpus[s][idx])\n",
    "        v[idx] = -np.inf\n",
    "        v = [lam*v[i] - (1-lam)*sim[idx,i] for i in range(no_sent)]\n",
    "    \n",
    "    top_corpus[s] = top_sents"
   ]
  },
  {
   "cell_type": "code",
   "execution_count": 21,
   "metadata": {
    "colab": {
     "base_uri": "https://localhost:8080/",
     "height": 363
    },
    "colab_type": "code",
    "id": "usZwJEQa6Gfg",
    "outputId": "a49469c5-daef-4ebb-82d3-fbd470cdd297"
   },
   "outputs": [
    {
     "data": {
      "text/html": [
       "<div>\n",
       "<style scoped>\n",
       "    .dataframe tbody tr th:only-of-type {\n",
       "        vertical-align: middle;\n",
       "    }\n",
       "\n",
       "    .dataframe tbody tr th {\n",
       "        vertical-align: top;\n",
       "    }\n",
       "\n",
       "    .dataframe thead th {\n",
       "        text-align: right;\n",
       "    }\n",
       "</style>\n",
       "<table border=\"1\" class=\"dataframe\">\n",
       "  <thead>\n",
       "    <tr style=\"text-align: right;\">\n",
       "      <th></th>\n",
       "      <th>X.AUTHID</th>\n",
       "      <th>ILP1</th>\n",
       "      <th>ILP2</th>\n",
       "      <th>ILP3</th>\n",
       "      <th>MMR1</th>\n",
       "      <th>MMR2</th>\n",
       "      <th>MMR3</th>\n",
       "    </tr>\n",
       "  </thead>\n",
       "  <tbody>\n",
       "    <tr>\n",
       "      <th>0</th>\n",
       "      <td>b'http://blog.searsholdings.com/leadership-vie...</td>\n",
       "      <td>SHC Speaks by As Chief HR Officer and co-e spo...</td>\n",
       "      <td>This year, SHC partnered with , and to marry f...</td>\n",
       "      <td>I was joined by dozens of SHC associates and f...</td>\n",
       "      <td>This year, SHC partnered with , and to marry f...</td>\n",
       "      <td>I was joined by dozens of SHC associates and f...</td>\n",
       "      <td>SHC Speaks by As Chief HR Officer and co-e spo...</td>\n",
       "    </tr>\n",
       "    <tr>\n",
       "      <th>1</th>\n",
       "      <td>b'https://atyourservice.blogs.xerox.com/catego...</td>\n",
       "      <td>When you look at your Xerox device and see the...</td>\n",
       "      <td>Recently new support videos were posted to the...</td>\n",
       "      <td>Xerox and Xerox and Design are trademarks of X...</td>\n",
       "      <td>Xerox and Xerox and Design are trademarks of X...</td>\n",
       "      <td>Recently new support videos were posted to the...</td>\n",
       "      <td>All rights reserved.</td>\n",
       "    </tr>\n",
       "    <tr>\n",
       "      <th>2</th>\n",
       "      <td>b'http://blogs.zebra.com/whitepaper-label'</td>\n",
       "      <td>; March 17, 2015 at 8:03 AM ;Product identifi...</td>\n",
       "      <td>It is critical that the labels you utilize are...</td>\n",
       "      <td>;In this paper, Zebra provides guidance on how...</td>\n",
       "      <td>It is critical that the labels you utilize are...</td>\n",
       "      <td>;In this paper, Zebra provides guidance on how...</td>\n",
       "      <td>This will reduce your risk of non-compliance t...</td>\n",
       "    </tr>\n",
       "    <tr>\n",
       "      <th>3</th>\n",
       "      <td>b'https://connect.blogs.xerox.com/author/lauri...</td>\n",
       "      <td>Writer and PR Consultant Email LinkedIn Twitte...</td>\n",
       "      <td>By By Laurie Riedman, PR Consultant Throughout...</td>\n",
       "      <td>Xerox and Xerox and Design are trademarks of X...</td>\n",
       "      <td>By By Laurie Riedman, PR Consultant Throughout...</td>\n",
       "      <td>Remembering how when my children were young it...</td>\n",
       "      <td>I was thinking about them today.</td>\n",
       "    </tr>\n",
       "    <tr>\n",
       "      <th>4</th>\n",
       "      <td>b'http://blog.searsholdings.com/2016/07/page/2/'</td>\n",
       "      <td>For our Danbury Sears store, this meant that w...</td>\n",
       "      <td>On Saturday, July 2, Sears celebrated the gran...</td>\n",
       "      <td>With the pride that I have for Sears Holdings,...</td>\n",
       "      <td>For our Danbury Sears store, this meant that w...</td>\n",
       "      <td>With the pride that I have for Sears Holdings,...</td>\n",
       "      <td>SHC Speaks by As the retail landscape continue...</td>\n",
       "    </tr>\n",
       "  </tbody>\n",
       "</table>\n",
       "</div>"
      ],
      "text/plain": [
       "                                            X.AUTHID  \\\n",
       "0  b'http://blog.searsholdings.com/leadership-vie...   \n",
       "1  b'https://atyourservice.blogs.xerox.com/catego...   \n",
       "2         b'http://blogs.zebra.com/whitepaper-label'   \n",
       "3  b'https://connect.blogs.xerox.com/author/lauri...   \n",
       "4   b'http://blog.searsholdings.com/2016/07/page/2/'   \n",
       "\n",
       "                                                ILP1  \\\n",
       "0  SHC Speaks by As Chief HR Officer and co-e spo...   \n",
       "1  When you look at your Xerox device and see the...   \n",
       "2   ; March 17, 2015 at 8:03 AM ;Product identifi...   \n",
       "3  Writer and PR Consultant Email LinkedIn Twitte...   \n",
       "4  For our Danbury Sears store, this meant that w...   \n",
       "\n",
       "                                                ILP2  \\\n",
       "0  This year, SHC partnered with , and to marry f...   \n",
       "1  Recently new support videos were posted to the...   \n",
       "2  It is critical that the labels you utilize are...   \n",
       "3  By By Laurie Riedman, PR Consultant Throughout...   \n",
       "4  On Saturday, July 2, Sears celebrated the gran...   \n",
       "\n",
       "                                                ILP3  \\\n",
       "0  I was joined by dozens of SHC associates and f...   \n",
       "1  Xerox and Xerox and Design are trademarks of X...   \n",
       "2  ;In this paper, Zebra provides guidance on how...   \n",
       "3  Xerox and Xerox and Design are trademarks of X...   \n",
       "4  With the pride that I have for Sears Holdings,...   \n",
       "\n",
       "                                                MMR1  \\\n",
       "0  This year, SHC partnered with , and to marry f...   \n",
       "1  Xerox and Xerox and Design are trademarks of X...   \n",
       "2  It is critical that the labels you utilize are...   \n",
       "3  By By Laurie Riedman, PR Consultant Throughout...   \n",
       "4  For our Danbury Sears store, this meant that w...   \n",
       "\n",
       "                                                MMR2  \\\n",
       "0  I was joined by dozens of SHC associates and f...   \n",
       "1  Recently new support videos were posted to the...   \n",
       "2  ;In this paper, Zebra provides guidance on how...   \n",
       "3  Remembering how when my children were young it...   \n",
       "4  With the pride that I have for Sears Holdings,...   \n",
       "\n",
       "                                                MMR3  \n",
       "0  SHC Speaks by As Chief HR Officer and co-e spo...  \n",
       "1                               All rights reserved.  \n",
       "2  This will reduce your risk of non-compliance t...  \n",
       "3                   I was thinking about them today.  \n",
       "4  SHC Speaks by As the retail landscape continue...  "
      ]
     },
     "execution_count": 21,
     "metadata": {},
     "output_type": "execute_result"
    }
   ],
   "source": [
    "top_data[\"MMR1\"] = [s[0] for s in top_corpus]\n",
    "top_data[\"MMR2\"] = [s[1] for s in top_corpus]\n",
    "top_data[\"MMR3\"] = [s[2] for s in top_corpus]\n",
    "                     \n",
    "top_data.head(5)"
   ]
  },
  {
   "cell_type": "code",
   "execution_count": 22,
   "metadata": {
    "colab": {},
    "colab_type": "code",
    "id": "X6GK0F1A9FKd"
   },
   "outputs": [],
   "source": [
    "# from google.colab import files\n",
    "\n",
    "top_data.to_csv('topdata_textbase.csv',encoding='utf-8', index=False)\n",
    "# files.download('topdata.csv')"
   ]
  },
  {
   "cell_type": "code",
   "execution_count": 23,
   "metadata": {
    "colab": {
     "base_uri": "https://localhost:8080/",
     "height": 67
    },
    "colab_type": "code",
    "id": "-b9FALaO9V8D",
    "outputId": "b40ab8ec-062f-4a2e-9828-d508621efac7"
   },
   "outputs": [
    {
     "data": {
      "text/plain": [
       "['This year, SHC partnered with , and to marry four couples on our float during the parade.',\n",
       " 'I was joined by dozens of SHC associates and family members who marched in the parade or cheered from the crowd.',\n",
       " 'SHC Speaks by As Chief HR Officer and co-e sponsor of Sears Holdings , I am honored to have volunteered at the 45 Annual Chicago Pride Parade .']"
      ]
     },
     "execution_count": 23,
     "metadata": {},
     "output_type": "execute_result"
    }
   ],
   "source": [
    "top_corpus[0]"
   ]
  },
  {
   "cell_type": "code",
   "execution_count": null,
   "metadata": {
    "colab": {},
    "colab_type": "code",
    "id": "uvrNkmvI7a7c"
   },
   "outputs": [],
   "source": []
  }
 ],
 "metadata": {
  "accelerator": "GPU",
  "colab": {
   "collapsed_sections": [],
   "name": "text_summ.ipynb",
   "provenance": [],
   "version": "0.3.2"
  },
  "kernelspec": {
   "display_name": "Python 3",
   "language": "python",
   "name": "python3"
  },
  "language_info": {
   "codemirror_mode": {
    "name": "ipython",
    "version": 3
   },
   "file_extension": ".py",
   "mimetype": "text/x-python",
   "name": "python",
   "nbconvert_exporter": "python",
   "pygments_lexer": "ipython3",
   "version": "3.7.3"
  }
 },
 "nbformat": 4,
 "nbformat_minor": 2
}
