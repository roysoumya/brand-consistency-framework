{
 "cells": [
  {
   "cell_type": "code",
   "execution_count": 30,
   "metadata": {},
   "outputs": [],
   "source": [
    "from statsmodels.stats.contingency_tables import mcnemar\n",
    "import pandas as pd\n",
    "import numpy as np\n",
    "from fuzzywuzzy import fuzz,process\n",
    "from sklearn.metrics import confusion_matrix"
   ]
  },
  {
   "cell_type": "code",
   "execution_count": 43,
   "metadata": {},
   "outputs": [],
   "source": [
    "sent_data_path = 'D:/PycharmProjects/MSThesisWorkMay2019/JournalCodes/data/GoldDataAllAspects_Annotate_Partial_17thSept.csv'\n",
    "sent_data = pd.read_csv(sent_data_path)\n",
    "summ_data_readpath = 'D:/Documents/MSThesisWork/AdobeBrandConsistency/genData1/GoldDataWithINFO_16thJune.csv'\n",
    "summ_data = pd.read_csv(summ_data_readpath)\n",
    "summ_data = summ_data.fillna(\"\")"
   ]
  },
  {
   "cell_type": "code",
   "execution_count": 44,
   "metadata": {},
   "outputs": [],
   "source": [
    "def gold_sent_match(gold_sent, aspect_list):\n",
    "    for elem in aspect_list:\n",
    "        if fuzz.partial_ratio(gold_sent, elem) > 90:\n",
    "            return 1\n",
    "    return 0"
   ]
  },
  {
   "cell_type": "code",
   "execution_count": 45,
   "metadata": {},
   "outputs": [],
   "source": [
    "gold_tot_list = list()\n",
    "authid_list = list()\n",
    "prec_range_val = 3\n",
    "lead_pre = list()\n",
    "hybrid_pre = list()\n",
    "incons_pre = list()\n",
    "neg_pre = list()\n",
    "ctr_pre = list()\n",
    "incons_neg_pre = list()\n",
    "rand_prec_list = []\n",
    "topic_prec_list = []\n",
    "fealexi_prec_list = []"
   ]
  },
  {
   "cell_type": "code",
   "execution_count": 46,
   "metadata": {},
   "outputs": [
    {
     "name": "stdout",
     "output_type": "stream",
     "text": [
      "Rowid:  1  has less than 3 entries, having:  2\n",
      "Rowid:  2  has less than 3 entries, having:  2\n",
      "Rowid:  21  has less than 3 entries, having:  2\n",
      "Rowid:  23  has less than 3 entries, having:  2\n",
      "Rowid:  24  has less than 3 entries, having:  2\n",
      "Rowid:  26  has less than 3 entries, having:  2\n",
      "Rowid:  29  has less than 3 entries, having:  2\n",
      "Rowid:  32  has less than 3 entries, having:  2\n",
      "Rowid:  34  has less than 3 entries, having:  2\n"
     ]
    }
   ],
   "source": [
    "for row_id in range(sent_data.shape[0]):\n",
    "    \n",
    "    gold_list1 = list(sent_data.iloc[row_id,3:(3+prec_range_val)])\n",
    "    gold_list = [x for x in gold_list1 if x == x]\n",
    "    if len(gold_list) < 3:\n",
    "        print('Rowid: ', row_id, ' has less than 3 entries, having: ', len(gold_list))\n",
    "    \n",
    "    lead_list = list(sent_data.iloc[row_id, 6:(6+prec_range_val)])\n",
    "    hybrid_list = list(sent_data.iloc[row_id, 9:(9+prec_range_val)])\n",
    "    incons_list = list(sent_data.iloc[row_id, 12:(12+prec_range_val)])\n",
    "    neg_list = list(sent_data.iloc[row_id, 15:(15+prec_range_val)])\n",
    "    ctr_list = list(sent_data.iloc[row_id, 18:(18+prec_range_val)])\n",
    "    incons_neg_list = list(sent_data.iloc[row_id, 21:(21+prec_range_val)])\n",
    "    rand_list = list(summ_data.iloc[row_id, 9:(9+prec_range_val)])\n",
    "    \n",
    "    for elem in gold_list:\n",
    "        authid_list.append(sent_data.iloc[row_id, 0])\n",
    "        gold_tot_list.append(elem)\n",
    "        lead_pre.append(gold_sent_match(elem, lead_list))\n",
    "        hybrid_pre.append(gold_sent_match(elem, hybrid_list))\n",
    "        incons_pre.append(gold_sent_match(elem, incons_list))\n",
    "        neg_pre.append(gold_sent_match(elem, neg_list))\n",
    "        ctr_pre.append(gold_sent_match(elem, ctr_list))\n",
    "        incons_neg_pre.append(gold_sent_match(elem, incons_neg_list))\n",
    "        rand_prec_list.append(gold_sent_match(elem, rand_list))\n",
    "    \n",
    "    \n",
    "    \n",
    "    \n",
    "    \n",
    "    "
   ]
  },
  {
   "cell_type": "code",
   "execution_count": 47,
   "metadata": {},
   "outputs": [
    {
     "data": {
      "text/plain": [
       "99"
      ]
     },
     "execution_count": 47,
     "metadata": {},
     "output_type": "execute_result"
    }
   ],
   "source": [
    "len(incons_pre)"
   ]
  },
  {
   "cell_type": "code",
   "execution_count": 48,
   "metadata": {},
   "outputs": [],
   "source": [
    "cont_data = pd.DataFrame({'X.AUTHID': authid_list, 'GOLD': gold_tot_list, 'RAND': rand_prec_list, 'LEAD': lead_pre, 'HYBRID': hybrid_pre, 'INCONS': incons_pre, 'NEG': neg_pre, 'CTR': ctr_pre, 'INCONS_NEG': incons_neg_pre})\n",
    "cont_data.to_csv('McnemarContTable_7thJuly.csv', index=False)"
   ]
  },
  {
   "cell_type": "code",
   "execution_count": null,
   "metadata": {},
   "outputs": [],
   "source": []
  },
  {
   "cell_type": "code",
   "execution_count": null,
   "metadata": {},
   "outputs": [],
   "source": []
  },
  {
   "cell_type": "code",
   "execution_count": 49,
   "metadata": {},
   "outputs": [
    {
     "data": {
      "text/html": [
       "<div>\n",
       "<style scoped>\n",
       "    .dataframe tbody tr th:only-of-type {\n",
       "        vertical-align: middle;\n",
       "    }\n",
       "\n",
       "    .dataframe tbody tr th {\n",
       "        vertical-align: top;\n",
       "    }\n",
       "\n",
       "    .dataframe thead th {\n",
       "        text-align: right;\n",
       "    }\n",
       "</style>\n",
       "<table border=\"1\" class=\"dataframe\">\n",
       "  <thead>\n",
       "    <tr style=\"text-align: right;\">\n",
       "      <th></th>\n",
       "      <th>X.AUTHID</th>\n",
       "      <th>GOLD</th>\n",
       "      <th>RAND</th>\n",
       "      <th>LEAD</th>\n",
       "      <th>HYBRID</th>\n",
       "      <th>INCONS</th>\n",
       "      <th>NEG</th>\n",
       "      <th>CTR</th>\n",
       "      <th>INCONS_NEG</th>\n",
       "    </tr>\n",
       "  </thead>\n",
       "  <tbody>\n",
       "    <tr>\n",
       "      <td>0</td>\n",
       "      <td>b'http://www.mastec.com/press-release/1799/1/M...</td>\n",
       "      <td>August 24, 2011;CORAL GABLES, Fla., Aug. 24, 2...</td>\n",
       "      <td>0</td>\n",
       "      <td>1</td>\n",
       "      <td>1</td>\n",
       "      <td>0</td>\n",
       "      <td>1</td>\n",
       "      <td>1</td>\n",
       "      <td>0</td>\n",
       "    </tr>\n",
       "    <tr>\n",
       "      <td>1</td>\n",
       "      <td>b'http://www.mastec.com/press-release/1799/1/M...</td>\n",
       "      <td>As of ;, MasTec had appro ; in outstanding loa...</td>\n",
       "      <td>0</td>\n",
       "      <td>0</td>\n",
       "      <td>1</td>\n",
       "      <td>1</td>\n",
       "      <td>1</td>\n",
       "      <td>1</td>\n",
       "      <td>1</td>\n",
       "    </tr>\n",
       "    <tr>\n",
       "      <td>2</td>\n",
       "      <td>b'http://www.mastec.com/press-release/1799/1/M...</td>\n",
       "      <td>MasTec\\'s Chief E Officer, added, \"\"We are ver...</td>\n",
       "      <td>0</td>\n",
       "      <td>0</td>\n",
       "      <td>1</td>\n",
       "      <td>0</td>\n",
       "      <td>1</td>\n",
       "      <td>1</td>\n",
       "      <td>0</td>\n",
       "    </tr>\n",
       "    <tr>\n",
       "      <td>3</td>\n",
       "      <td>b'http://www.rpminc.com/news-releases/news-rel...</td>\n",
       "      <td>RPM International Inc., a holding company, own...</td>\n",
       "      <td>0</td>\n",
       "      <td>0</td>\n",
       "      <td>1</td>\n",
       "      <td>1</td>\n",
       "      <td>1</td>\n",
       "      <td>1</td>\n",
       "      <td>1</td>\n",
       "    </tr>\n",
       "    <tr>\n",
       "      <td>4</td>\n",
       "      <td>b'http://www.rpminc.com/news-releases/news-rel...</td>\n",
       "      <td>MEDINA, Ohio, April 3 /PRNewswire-FirstCall/ -...</td>\n",
       "      <td>0</td>\n",
       "      <td>1</td>\n",
       "      <td>0</td>\n",
       "      <td>0</td>\n",
       "      <td>0</td>\n",
       "      <td>0</td>\n",
       "      <td>0</td>\n",
       "    </tr>\n",
       "  </tbody>\n",
       "</table>\n",
       "</div>"
      ],
      "text/plain": [
       "                                            X.AUTHID  \\\n",
       "0  b'http://www.mastec.com/press-release/1799/1/M...   \n",
       "1  b'http://www.mastec.com/press-release/1799/1/M...   \n",
       "2  b'http://www.mastec.com/press-release/1799/1/M...   \n",
       "3  b'http://www.rpminc.com/news-releases/news-rel...   \n",
       "4  b'http://www.rpminc.com/news-releases/news-rel...   \n",
       "\n",
       "                                                GOLD  RAND  LEAD  HYBRID  \\\n",
       "0  August 24, 2011;CORAL GABLES, Fla., Aug. 24, 2...     0     1       1   \n",
       "1  As of ;, MasTec had appro ; in outstanding loa...     0     0       1   \n",
       "2  MasTec\\'s Chief E Officer, added, \"\"We are ver...     0     0       1   \n",
       "3  RPM International Inc., a holding company, own...     0     0       1   \n",
       "4  MEDINA, Ohio, April 3 /PRNewswire-FirstCall/ -...     0     1       0   \n",
       "\n",
       "   INCONS  NEG  CTR  INCONS_NEG  \n",
       "0       0    1    1           0  \n",
       "1       1    1    1           1  \n",
       "2       0    1    1           0  \n",
       "3       1    1    1           1  \n",
       "4       0    0    0           0  "
      ]
     },
     "execution_count": 49,
     "metadata": {},
     "output_type": "execute_result"
    }
   ],
   "source": [
    "cont_data.head()"
   ]
  },
  {
   "cell_type": "code",
   "execution_count": 37,
   "metadata": {},
   "outputs": [],
   "source": [
    "conf_mat = "
   ]
  },
  {
   "cell_type": "code",
   "execution_count": 33,
   "metadata": {},
   "outputs": [
    {
     "data": {
      "text/plain": [
       "[[47, 4], [7, 41]]"
      ]
     },
     "execution_count": 33,
     "metadata": {},
     "output_type": "execute_result"
    }
   ],
   "source": []
  },
  {
   "cell_type": "code",
   "execution_count": 50,
   "metadata": {},
   "outputs": [],
   "source": [
    "def mcnemar_test(conf_mat, first, second):\n",
    "    # calculate mcnemar test\n",
    "    result = mcnemar(conf_mat, exact=True)\n",
    "    # summarize the finding\n",
    "    print('statistic=%.3f, p-value=%.3f' % (result.statistic, result.pvalue))\n",
    "    # interpret the p-value\n",
    "    alpha = 0.05\n",
    "    if result.pvalue > alpha:\n",
    "        print(first,' - ', second, ' :: Same proportions of errors (fail to reject H0)')\n",
    "    else:\n",
    "        print(first,' - ', second, ' :: Different proportions of errors (reject H0)')"
   ]
  },
  {
   "cell_type": "code",
   "execution_count": 38,
   "metadata": {},
   "outputs": [
    {
     "name": "stdout",
     "output_type": "stream",
     "text": [
      "statistic=4.000, p-value=0.549\n",
      "Hybrid  -  Centrality  :: Same proportions of errors (fail to reject H0)\n"
     ]
    }
   ],
   "source": [
    "mcnemar_test(confusion_matrix(list(cont_data['HYBRID']), list(cont_data['CTR'])).tolist(), 'Hybrid', 'Centrality')"
   ]
  },
  {
   "cell_type": "code",
   "execution_count": 39,
   "metadata": {},
   "outputs": [
    {
     "name": "stdout",
     "output_type": "stream",
     "text": [
      "statistic=2.000, p-value=0.007\n",
      "Hybrid  -  Polarity  :: Different proportions of errors (reject H0)\n"
     ]
    }
   ],
   "source": [
    "mcnemar_test(confusion_matrix(list(cont_data['HYBRID']), list(cont_data['NEG'])).tolist(), 'Hybrid', 'Polarity')"
   ]
  },
  {
   "cell_type": "code",
   "execution_count": 40,
   "metadata": {},
   "outputs": [
    {
     "name": "stdout",
     "output_type": "stream",
     "text": [
      "statistic=9.000, p-value=0.087\n",
      "Hybrid  -  InconsNeg  :: Same proportions of errors (fail to reject H0)\n"
     ]
    }
   ],
   "source": [
    "mcnemar_test(confusion_matrix(list(cont_data['HYBRID']), list(cont_data['INCONS_NEG'])).tolist(), 'Hybrid', 'InconsNeg')"
   ]
  },
  {
   "cell_type": "code",
   "execution_count": 41,
   "metadata": {},
   "outputs": [
    {
     "name": "stdout",
     "output_type": "stream",
     "text": [
      "statistic=8.000, p-value=0.052\n",
      "Hybrid  -  Incons  :: Same proportions of errors (fail to reject H0)\n"
     ]
    }
   ],
   "source": [
    "mcnemar_test(confusion_matrix(list(cont_data['HYBRID']), list(cont_data['INCONS'])).tolist(), 'Hybrid', 'Incons')"
   ]
  },
  {
   "cell_type": "code",
   "execution_count": 42,
   "metadata": {},
   "outputs": [
    {
     "name": "stdout",
     "output_type": "stream",
     "text": [
      "statistic=10.000, p-value=0.001\n",
      "Hybrid  -  Lead  :: Different proportions of errors (reject H0)\n"
     ]
    }
   ],
   "source": [
    "mcnemar_test(confusion_matrix(list(cont_data['HYBRID']), list(cont_data['LEAD'])).tolist(), 'Hybrid', 'Lead')"
   ]
  },
  {
   "cell_type": "code",
   "execution_count": 51,
   "metadata": {},
   "outputs": [
    {
     "name": "stdout",
     "output_type": "stream",
     "text": [
      "statistic=0.000, p-value=0.000\n",
      "Hybrid  -  Rand  :: Different proportions of errors (reject H0)\n"
     ]
    }
   ],
   "source": [
    "mcnemar_test(confusion_matrix(list(cont_data['HYBRID']), list(cont_data['RAND'])).tolist(), 'Hybrid', 'Rand')"
   ]
  },
  {
   "cell_type": "code",
   "execution_count": null,
   "metadata": {},
   "outputs": [],
   "source": []
  }
 ],
 "metadata": {
  "kernelspec": {
   "display_name": "Python 3",
   "language": "python",
   "name": "python3"
  },
  "language_info": {
   "codemirror_mode": {
    "name": "ipython",
    "version": 3
   },
   "file_extension": ".py",
   "mimetype": "text/x-python",
   "name": "python",
   "nbconvert_exporter": "python",
   "pygments_lexer": "ipython3",
   "version": "3.7.4"
  }
 },
 "nbformat": 4,
 "nbformat_minor": 2
}
